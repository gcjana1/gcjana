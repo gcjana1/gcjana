{
  "nbformat": 4,
  "nbformat_minor": 0,
  "metadata": {
    "colab": {
      "provenance": []
    },
    "kernelspec": {
      "name": "python3",
      "display_name": "Python 3"
    },
    "language_info": {
      "name": "python"
    }
  },
  "cells": [
    {
      "cell_type": "markdown",
      "source": [
        "**Brute Force Approach: Finding the Maximum Subarray Sum**"
      ],
      "metadata": {
        "id": "K6KcMGRJXxFU"
      }
    },
    {
      "cell_type": "code",
      "execution_count": 1,
      "metadata": {
        "colab": {
          "base_uri": "https://localhost:8080/"
        },
        "id": "7NZQfnunXrKg",
        "outputId": "932acca2-2af9-479d-b389-dabf7875431c"
      },
      "outputs": [
        {
          "output_type": "stream",
          "name": "stdout",
          "text": [
            "6\n"
          ]
        }
      ],
      "source": [
        "def max_subarray_sum_brute_force(arr):\n",
        "    n = len(arr)\n",
        "    max_sum = float('-inf')\n",
        "\n",
        "    for i in range(n):\n",
        "        for j in range(i, n):\n",
        "            current_sum = 0\n",
        "            for k in range(i, j+1):\n",
        "                current_sum += arr[k]\n",
        "            max_sum = max(max_sum, current_sum)\n",
        "\n",
        "    return max_sum\n",
        "\n",
        "# Example usage:\n",
        "arr = [-2, 1, -3, 4, -1, 2, 1, -5, 4]\n",
        "print(max_subarray_sum_brute_force(arr))  # Output: 6\n"
      ]
    },
    {
      "cell_type": "markdown",
      "source": [
        "Time Complexity:\n",
        "𝑂\n",
        "(\n",
        "𝑛^\n",
        "3\n",
        ")\n",
        "\n",
        "Space Complexity:\n",
        "𝑂\n",
        "(\n",
        "1\n",
        ")\n"
      ],
      "metadata": {
        "id": "3p7SWjrgYIWl"
      }
    },
    {
      "cell_type": "markdown",
      "source": [
        "**Optimized Approach (Kadane’s Algorithm): Finding the Maximum Subarray Sum**"
      ],
      "metadata": {
        "id": "Y_jAr7aKX8Nk"
      }
    },
    {
      "cell_type": "code",
      "source": [
        "def max_subarray_sum_kadane(arr):\n",
        "    max_ending_here = max_so_far = arr[0]\n",
        "\n",
        "    for x in arr[1:]:\n",
        "        max_ending_here = max(x, max_ending_here + x)\n",
        "        max_so_far = max(max_so_far, max_ending_here)\n",
        "\n",
        "    return max_so_far\n",
        "\n",
        "# Example usage:\n",
        "arr = [-2, 1, -3, 4, -1, 2, 1, -5, 4]\n",
        "print(max_subarray_sum_kadane(arr))  # Output: 6\n"
      ],
      "metadata": {
        "colab": {
          "base_uri": "https://localhost:8080/"
        },
        "id": "n-U6dkXJYEXS",
        "outputId": "69354638-7288-49b5-ebd7-235bbdfd16e2"
      },
      "execution_count": 2,
      "outputs": [
        {
          "output_type": "stream",
          "name": "stdout",
          "text": [
            "6\n"
          ]
        }
      ]
    },
    {
      "cell_type": "markdown",
      "source": [
        "Time Complexity: O(n)\n",
        "Space Complexity: O(1)"
      ],
      "metadata": {
        "id": "0XOW9uLTYZOV"
      }
    }
  ]
}